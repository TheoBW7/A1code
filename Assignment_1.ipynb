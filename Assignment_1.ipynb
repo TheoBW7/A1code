{
 "cells": [
  {
   "cell_type": "code",
   "execution_count": 1,
   "id": "852df76b",
   "metadata": {
    "scrolled": true
   },
   "outputs": [
    {
     "name": "stdout",
     "output_type": "stream",
     "text": [
      "{1, 3, 4, 12, 20, 60}\n",
      "\n",
      "\u001b[47m  \u001b[47m0  \u001b[47m1  \u001b[47m2  \u001b[47m3  \u001b[47m4  \u001b[47m5  \u001b[47m6  \u001b[47m7  \u001b[47m8  \u001b[47m9  \n",
      "\u001b[47m0 \u001b[40m1  \u001b[45m60 \u001b[44m20 \u001b[45m60 \u001b[44m20 \u001b[41m3  \u001b[44m20 \u001b[45m60 \u001b[44m20 \u001b[45m60 \n",
      "\u001b[47m1 \u001b[45m60 \u001b[45m60 \u001b[45m60 \u001b[43m12 \u001b[45m60 \u001b[45m60 \u001b[45m60 \u001b[45m60 \u001b[43m12 \u001b[45m60 \n",
      "\u001b[47m2 \u001b[44m20 \u001b[43m12 \u001b[44m20 \u001b[45m60 \u001b[44m20 \u001b[45m60 \u001b[42m4  \u001b[45m60 \u001b[44m20 \u001b[45m60 \n",
      "\u001b[47m3 \u001b[45m60 \u001b[45m60 \u001b[45m60 \u001b[45m60 \u001b[43m12 \u001b[45m60 \u001b[45m60 \u001b[45m60 \u001b[45m60 \u001b[43m12 \n",
      "\u001b[47m4 \u001b[44m20 \u001b[45m60 \u001b[42m4  \u001b[45m60 \u001b[44m20 \u001b[45m60 \u001b[44m20 \u001b[43m12 \u001b[44m20 \u001b[45m60 \n",
      "\u001b[47m5 \u001b[41m3  \u001b[45m60 \u001b[45m60 \u001b[45m60 \u001b[45m60 \u001b[41m3  \u001b[45m60 \u001b[45m60 \u001b[45m60 \u001b[45m60 \n",
      "\u001b[47m6 \u001b[44m20 \u001b[45m60 \u001b[44m20 \u001b[43m12 \u001b[44m20 \u001b[45m60 \u001b[44m20 \u001b[45m60 \u001b[42m4  \u001b[45m60 \n",
      "\u001b[47m7 \u001b[45m60 \u001b[43m12 \u001b[45m60 \u001b[45m60 \u001b[45m60 \u001b[45m60 \u001b[43m12 \u001b[45m60 \u001b[45m60 \u001b[45m60 \n",
      "\u001b[47m8 \u001b[44m20 \u001b[45m60 \u001b[44m20 \u001b[45m60 \u001b[42m4  \u001b[45m60 \u001b[44m20 \u001b[45m60 \u001b[44m20 \u001b[43m12 \n",
      "\u001b[47m9 \u001b[45m60 \u001b[45m60 \u001b[43m12 \u001b[45m60 \u001b[45m60 \u001b[45m60 \u001b[45m60 \u001b[43m12 \u001b[45m60 \u001b[45m60 \n"
     ]
    }
   ],
   "source": [
    "def repetition(lst): #finds repition of pairs within given sequence\n",
    "    seen_pairs = set()\n",
    "\n",
    "    for i in range(len(lst) - 1):\n",
    "        pair = (lst[i], lst[i + 1])\n",
    "\n",
    "        if pair in seen_pairs:\n",
    "            return True\n",
    "\n",
    "        seen_pairs.add(pair)\n",
    "\n",
    "    return False\n",
    "\n",
    "def bracelet(a,b): #produces the bracelet from starting numbers\n",
    "    a1 = a\n",
    "    a2 = b\n",
    "    A = [a,b]\n",
    "    i = 0\n",
    "    while repetition(A) == False:  #loops only whilst there are no repetitions\n",
    "        an = (A[i] + A[i+1])%10\n",
    "        A.append(an)\n",
    "        i += 1\n",
    "    A = A[:-2]      #A is 1 loop of the bracelet\n",
    "    return A, len(A)\n",
    "        \n",
    "def find_lengths():\n",
    "    lengths = []\n",
    "    for i in range(10):\n",
    "        for j in range(10):\n",
    "            length = bracelet(i, j)[1]\n",
    "            lengths.append(length)\n",
    "    return set(lengths) #returns all unique lengths\n",
    "            \n",
    "print(find_lengths())\n",
    "    \n",
    "print('')\n",
    "    \n",
    "def symb(u):\n",
    "    if u==1:\n",
    "        return \"\\u001b[40m1 \"       \n",
    "    elif u==3:\n",
    "        return \"\\u001b[41m3 \"    \n",
    "    elif u==4:\n",
    "        return \"\\u001b[42m4 \"     \n",
    "    elif u==12:\n",
    "        return \"\\u001b[43m12\"     \n",
    "    elif u==20:\n",
    "        return \"\\u001b[44m20\"    \n",
    "    elif u==60:\n",
    "        return \"\\u001b[45m60\"  \n",
    "    \n",
    "    \n",
    "for i in range(11):\n",
    "    if i == 0:\n",
    "        print(\"\\u001b[47m\", sep='', end='  ')\n",
    "    else:\n",
    "        print(\"\\u001b[47m\"+str(i-1), sep='', end='  ')\n",
    "\n",
    "print('')\n",
    "    \n",
    "for i in range(10):\n",
    "    for j in range(10):\n",
    "        u = bracelet(i, j)[1]\n",
    "        s = symb(u)\n",
    "        if j==0:\n",
    "            print(\"\\u001b[47m\"+str(i), sep='', end=' ')\n",
    "            print(s, sep='', end=' ')\n",
    "        else:\n",
    "            print(s, sep='', end=' ') \n",
    "    print('')\n",
    "    "
   ]
  },
  {
   "cell_type": "code",
   "execution_count": null,
   "id": "40255927",
   "metadata": {},
   "outputs": [],
   "source": []
  }
 ],
 "metadata": {
  "kernelspec": {
   "display_name": "Python 3 (ipykernel)",
   "language": "python",
   "name": "python3"
  },
  "language_info": {
   "codemirror_mode": {
    "name": "ipython",
    "version": 3
   },
   "file_extension": ".py",
   "mimetype": "text/x-python",
   "name": "python",
   "nbconvert_exporter": "python",
   "pygments_lexer": "ipython3",
   "version": "3.9.7"
  }
 },
 "nbformat": 4,
 "nbformat_minor": 5
}
